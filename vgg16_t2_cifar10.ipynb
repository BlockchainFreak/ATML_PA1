{
  "cells": [
    {
      "cell_type": "markdown",
      "metadata": {
        "id": "mVlRtW4D_NDs"
      },
      "source": [
        "# Imports"
      ]
    },
    {
      "cell_type": "code",
      "execution_count": 1,
      "metadata": {
        "id": "8RHgKPQs_NDu"
      },
      "outputs": [],
      "source": [
        "import torch\n",
        "import torch.nn as nn\n",
        "import torch.optim as optim\n",
        "from torchvision import datasets, transforms, models\n",
        "from torch.utils.data import DataLoader\n",
        "from tqdm import tqdm\n",
        "import matplotlib.pyplot as plt"
      ]
    },
    {
      "cell_type": "code",
      "execution_count": null,
      "metadata": {
        "id": "GwBQ5eyK_NDv"
      },
      "outputs": [],
      "source": [
        "# Load pretrained VGG16\n",
        "vgg16 = models.vgg16(pretrained=True)\n",
        "print(vgg16)\n",
        "\n",
        "# Modify classifier for CIFAR-10\n",
        "vgg16.classifier[6] = torch.nn.Linear(4096, 10)\n",
        "\n",
        "# Freezing backbone for finetuining\n",
        "for param in vgg16.parameters():\n",
        "    param.requires_grad = False\n",
        "\n",
        "for param in vgg16.classifier.parameters():\n",
        "    param.requires_grad = True\n",
        "\n",
        "for name, param in vgg16.named_parameters():\n",
        "    status = \"Trainable\" if param.requires_grad else \"Frozen\"\n",
        "    print(f\"{name}: {status}\")\n",
        "\n",
        "# Move to GPU\n",
        "device = torch.device(\"cuda\" if torch.cuda.is_available() else \"cpu\")\n",
        "vgg16.to(device)"
      ]
    },
    {
      "cell_type": "code",
      "execution_count": null,
      "metadata": {
        "id": "3fcm1vtT_NDw"
      },
      "outputs": [],
      "source": [
        "# Transformations\n",
        "transform = transforms.Compose([\n",
        "    transforms.Resize(224),  # resize to default vgg16 input size\n",
        "    transforms.ToTensor(),\n",
        "])\n",
        "\n",
        "# Loading CIFAR-10\n",
        "train_dataset = datasets.CIFAR10(root='./data', train=True, download=True, transform=transform)\n",
        "train_loader = DataLoader(train_dataset, batch_size=128, shuffle=True)\n",
        "\n",
        "test_dataset = datasets.CIFAR10(root='./data', train=False, download=True, transform=transform)\n",
        "test_loader = DataLoader(test_dataset, batch_size=128, shuffle=False)"
      ]
    },
    {
      "cell_type": "code",
      "execution_count": 4,
      "metadata": {
        "id": "UaSjlYnH_NDx"
      },
      "outputs": [],
      "source": [
        "criterion = nn.CrossEntropyLoss()\n",
        "optimizer = optim.SGD(vgg16.classifier.parameters(), lr=1e-4, momentum = 0.9)"
      ]
    },
    {
      "cell_type": "code",
      "execution_count": 5,
      "metadata": {
        "id": "KUDHLQFv_NDx"
      },
      "outputs": [],
      "source": [
        "def train_model(model, train_loader, criterion, optimizer, num_epochs):\n",
        "    model.train()  # Set model to training mode\n",
        "\n",
        "    # Lists to store loss and accuracy values for each epoch\n",
        "    epoch_losses = []\n",
        "    epoch_accuracies = []\n",
        "\n",
        "    for epoch in range(num_epochs):\n",
        "        running_loss = 0.0\n",
        "        correct = 0\n",
        "        total = 0\n",
        "\n",
        "        # Wrap train_loader with tqdm for progress tracking\n",
        "        with tqdm(total=len(train_loader), desc=f'Epoch {epoch+1}/{num_epochs}', unit='batch') as pbar:\n",
        "            for inputs, labels in train_loader:\n",
        "                inputs, labels = inputs.to(device), labels.to(device)\n",
        "\n",
        "                # Zero the parameter gradients\n",
        "                optimizer.zero_grad()\n",
        "\n",
        "                # Forward pass\n",
        "                outputs = model(inputs)\n",
        "                loss = criterion(outputs, labels)\n",
        "\n",
        "                # Backward pass and optimization\n",
        "                loss.backward()\n",
        "                optimizer.step()\n",
        "\n",
        "                # Statistics\n",
        "                running_loss += loss.item()\n",
        "                _, predicted = outputs.max(1)\n",
        "                total += labels.size(0)\n",
        "                correct += predicted.eq(labels).sum().item()\n",
        "\n",
        "                # Update the progress bar\n",
        "                pbar.set_postfix(loss=running_loss / (pbar.n + 1), accuracy=100. * correct / total)\n",
        "                pbar.update(1)\n",
        "\n",
        "        # Calculate epoch statistics\n",
        "        epoch_loss = running_loss / len(train_loader)\n",
        "        accuracy = 100. * correct / total\n",
        "        epoch_losses.append(epoch_loss)\n",
        "        epoch_accuracies.append(accuracy)\n",
        "\n",
        "        print(f'Epoch {epoch+1}/{num_epochs}, Loss: {epoch_loss:.4f}, Accuracy: {accuracy:.2f}%')\n",
        "\n",
        "    # Plot the training loss and accuracy graphs\n",
        "    fig, ax1 = plt.subplots()\n",
        "\n",
        "    ax1.set_xlabel('Epoch')\n",
        "    ax1.set_ylabel('Loss', color='tab:red')\n",
        "    ax1.plot(range(1, num_epochs + 1), epoch_losses, color='tab:red', label='Loss')\n",
        "    ax1.tick_params(axis='y', labelcolor='tab:red')\n",
        "\n",
        "    ax2 = ax1.twinx()  # instantiate a second axes that shares the same x-axis\n",
        "    ax2.set_ylabel('Accuracy (%)', color='tab:blue')  # we already handled the x-label with ax1\n",
        "    ax2.plot(range(1, num_epochs + 1), epoch_accuracies, color='tab:blue', label='Accuracy')\n",
        "    ax2.tick_params(axis='y', labelcolor='tab:blue')\n",
        "\n",
        "    fig.tight_layout()  # otherwise the right y-label is slightly clipped\n",
        "    plt.title(\"Training Loss and Accuracy over Epochs\")\n",
        "    plt.show()"
      ]
    },
    {
      "cell_type": "code",
      "execution_count": null,
      "metadata": {
        "id": "Bjf5_10v_NDx"
      },
      "outputs": [],
      "source": [
        "train_model(vgg16, train_loader, criterion, optimizer, num_epochs=3)\n",
        "torch.save(vgg16.state_dict(), 'vgg16_t2_cifar10.pth')"
      ]
    },
    {
      "cell_type": "code",
      "execution_count": null,
      "metadata": {
        "id": "HLMJktQA_NDy"
      },
      "outputs": [],
      "source": [
        "def evaluate_model(model, test_loader):\n",
        "    model.eval()  # Set model to evaluation mode\n",
        "    correct = 0\n",
        "    total = 0\n",
        "\n",
        "    # List to store individual accuracies for each batch (optional)\n",
        "    batch_accuracies = []\n",
        "\n",
        "    with torch.no_grad():\n",
        "        # Wrap test_loader with tqdm for progress tracking\n",
        "        with tqdm(total=len(test_loader), desc='Evaluating', unit='batch') as pbar:\n",
        "            for inputs, labels in test_loader:\n",
        "                inputs, labels = inputs.to(device), labels.to(device)\n",
        "                outputs = model(inputs)\n",
        "                _, predicted = outputs.max(1)\n",
        "                total += labels.size(0)\n",
        "                correct += predicted.eq(labels).sum().item()\n",
        "\n",
        "                # Calculate accuracy for the current batch (optional)\n",
        "                batch_accuracy = 100. * predicted.eq(labels).sum().item() / labels.size(0)\n",
        "                batch_accuracies.append(batch_accuracy)\n",
        "\n",
        "                # Update progress bar with the current batch accuracy\n",
        "                pbar.set_postfix(batch_accuracy=batch_accuracy)\n",
        "                pbar.update(1)\n",
        "\n",
        "    accuracy = 100. * correct / total\n",
        "    print(f'Test Accuracy: {accuracy:.2f}%')\n",
        "\n",
        "    # Plotting batch accuracies (optional)\n",
        "    if batch_accuracies:\n",
        "        plt.figure(figsize=(10, 5))\n",
        "        plt.plot(batch_accuracies, label='Batch Accuracy', color='blue')\n",
        "        plt.xlabel('Batch Number')\n",
        "        plt.ylabel('Accuracy (%)')\n",
        "        plt.title('Batch Accuracy during Evaluation')\n",
        "        plt.axhline(y=accuracy, color='red', linestyle='--', label='Overall Accuracy')\n",
        "        plt.legend()\n",
        "        plt.grid()\n",
        "        plt.show()"
      ]
    },
    {
      "cell_type": "code",
      "execution_count": null,
      "metadata": {
        "id": "gjVeJori_NDy"
      },
      "outputs": [],
      "source": [
        "evaluate_model(vgg16, test_loader)"
      ]
    },
    {
      "cell_type": "code",
      "source": [
        "import matplotlib.pyplot as plt\n",
        "import torch.nn.functional as F\n",
        "import math\n",
        "\n",
        "def show_predictions(model, loader, device, num_samples=50, cols=10):\n",
        "    # Switch model to evaluation mode\n",
        "    model.eval()\n",
        "\n",
        "    # Get a batch of data from the loader\n",
        "    images, labels = next(iter(loader))\n",
        "    images, labels = images.to(device), labels.to(device)\n",
        "\n",
        "    # Get the model's predictions\n",
        "    with torch.no_grad():\n",
        "        outputs = model(images)\n",
        "        _, predicted_labels = torch.max(outputs, 1)\n",
        "\n",
        "    # Convert tensor to numpy for visualization\n",
        "    images = images.cpu().numpy()\n",
        "    labels = labels.cpu().numpy()\n",
        "    predicted_labels = predicted_labels.cpu().numpy()\n",
        "\n",
        "    # Plot the images with predicted and true labels\n",
        "    rows = math.ceil(num_samples / cols)  # Calculate number of rows based on num_samples and cols\n",
        "    fig, axes = plt.subplots(rows, cols, figsize=(cols * 2, rows * 2))\n",
        "    axes = axes.flatten()  # Flatten the axes array for easy indexing\n",
        "\n",
        "    for i in range(num_samples):\n",
        "        ax = axes[i]\n",
        "        img = images[i].transpose((1, 2, 0))  # Change format to HWC for plotting\n",
        "        img = img * 255.0  # Assuming the images are normalized, revert back to original pixel range\n",
        "        img = img.astype('uint8')  # Convert to uint8 for display\n",
        "\n",
        "        ax.imshow(img)\n",
        "        ax.axis('off')\n",
        "        ax.set_title(f\"True: {labels[i]}\\nPred: {predicted_labels[i]}\")\n",
        "\n",
        "    # Turn off axes for any extra subplots (if num_samples doesn't fill the grid perfectly)\n",
        "    for i in range(num_samples, len(axes)):\n",
        "        axes[i].axis('off')\n",
        "\n",
        "    plt.tight_layout()\n",
        "    plt.show()\n",
        "\n",
        "# Show 50 sample images with their predictions in a grid of 10 columns\n",
        "show_predictions(vgg16, train_loader, device, num_samples=50, cols=10)\n"
      ],
      "metadata": {
        "id": "JtAbvjyCKrHx"
      },
      "execution_count": null,
      "outputs": []
    }
  ],
  "metadata": {
    "kernelspec": {
      "display_name": "Python 3",
      "name": "python3"
    },
    "language_info": {
      "codemirror_mode": {
        "name": "ipython",
        "version": 3
      },
      "file_extension": ".py",
      "mimetype": "text/x-python",
      "name": "python",
      "nbconvert_exporter": "python",
      "pygments_lexer": "ipython3",
      "version": "3.11.9"
    },
    "colab": {
      "provenance": [],
      "gpuType": "T4"
    },
    "accelerator": "GPU"
  },
  "nbformat": 4,
  "nbformat_minor": 0
}